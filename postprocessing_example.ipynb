{
 "cells": [
  {
   "cell_type": "code",
   "execution_count": 1,
   "metadata": {},
   "outputs": [],
   "source": [
    "from postprocessingbyprojection import *\n",
    "import matplotlib.pyplot as plt\n",
    "from misc_func import set_size\n",
    "from timeit import default_timer as timer\n",
    "import funcformultiprocessing\n",
    "import os\n",
    "from multiprocessing import Pool"
   ]
  },
  {
   "cell_type": "markdown",
   "metadata": {},
   "source": [
    "## A plot of $|V|+|A|$ as a function of number of jumps"
   ]
  },
  {
   "cell_type": "code",
   "execution_count": 2,
   "metadata": {},
   "outputs": [],
   "source": [
    "max_size = 1000\n",
    "gam = 0.03\n",
    "np.random.seed(1)\n",
    "sizes = np.arange(2, max_size)[::10]\n",
    "\n",
    "if __name__ ==  '__main__':\n",
    "    pool = Pool(processes = os.cpu_count() - 1)\n",
    "    results = [pool.apply_async(funcformultiprocessing.size_DAG, args = (gam, size)) for size in sizes]\n",
    "    r = [result.get() for result in results]\n",
    "    pool.close()\n",
    "    pool.join()"
   ]
  },
  {
   "cell_type": "code",
   "execution_count": 3,
   "metadata": {},
   "outputs": [
    {
     "data": {
      "image/png": "[encoded data removed]",
      "text/plain": [
       "<Figure size 343.711x212.425 with 1 Axes>"
      ]
     },
     "metadata": {
      "needs_background": "light"
     },
     "output_type": "display_data"
    }
   ],
   "source": [
    "x = [result[1] for result in r]\n",
    "\n",
    "plt.figure(figsize = set_size(width = 345, subplots = (1, 1)))\n",
    "plt.plot(sizes, x)\n",
    "plt.xlabel('number of jumps')\n",
    "plt.ylabel('$|V|+|A|$')\n",
    "plt.savefig('jumpsvsgraphsize.pdf')\n",
    "plt.show()"
   ]
  },
  {
   "cell_type": "markdown",
   "metadata": {},
   "source": [
    "## A plot of computation time as a function of $|V|+|A|$"
   ]
  },
  {
   "cell_type": "code",
   "execution_count": null,
   "metadata": {},
   "outputs": [],
   "source": [
    "max_size = 1000\n",
    "gam = 0.03\n",
    "sizes = np.arange(2, max_size)[::10]\n",
    "\n",
    "if __name__ ==  '__main__':\n",
    "    pool = Pool(processes = os.cpu_count() - 1)\n",
    "    results = [pool.apply_async(funcformultiprocessing.timing_mean_DAG, args = (gam, size)) \n",
    "               for size in sizes for keer in range(100)]\n",
    "    r = [result.get() for result in results]\n",
    "    pool.close()\n",
    "    pool.join()"
   ]
  },
  {
   "cell_type": "code",
   "execution_count": null,
   "metadata": {},
   "outputs": [],
   "source": [
    "from itertools import groupby\n",
    "from operator import itemgetter\n",
    "\n",
    "times_creation = [np.mean(list(list(zip(*g))[1])) for k, g in groupby(r, itemgetter(0))]\n",
    "times_shortest = [np.mean(list(list(zip(*g))[2])) for k, g in groupby(r, itemgetter(0))]\n",
    "\n",
    "plt.figure(figsize = set_size(width = 345, subplots = (1, 1)))\n",
    "plt.plot(x, [times_creation[i] + times_shortest[i] for i in range(len(times_creation))])\n",
    "plt.plot(x, times_shortest)\n",
    "plt.plot(x, times_creation)\n",
    "plt.xlabel('$|V|+|A|$')\n",
    "plt.ylabel('time (s)')\n",
    "plt.legend(['creation+shortest', 'shortest', 'creation'])\n",
    "plt.savefig('creatplusshort.pdf')\n",
    "plt.show()"
   ]
  }
 ],
 "metadata": {
  "kernelspec": {
   "display_name": "Python 3",
   "language": "python",
   "name": "python3"
  },
  "language_info": {
   "codemirror_mode": {
    "name": "ipython",
    "version": 3
   },
   "file_extension": ".py",
   "mimetype": "text/x-python",
   "name": "python",
   "nbconvert_exporter": "python",
   "pygments_lexer": "ipython3",
   "version": "3.7.6"
  }
 },
 "nbformat": 4,
 "nbformat_minor": 4
}
