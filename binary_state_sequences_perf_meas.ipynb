{
 "cells": [
  {
   "cell_type": "code",
   "execution_count": 1,
   "metadata": {},
   "outputs": [],
   "source": [
    "from BSS import *\n",
    "from measures import *"
   ]
  },
  {
   "cell_type": "code",
   "execution_count": 2,
   "metadata": {},
   "outputs": [],
   "source": [
    "gts = GTS_measure()\n",
    "lts = LTS_measure()"
   ]
  },
  {
   "cell_type": "code",
   "execution_count": 3,
   "metadata": {},
   "outputs": [
    {
     "name": "stdout",
     "output_type": "stream",
     "text": [
      "w: 0.6, s: 0.5, lam: 0.01, gamma: 0.5\n",
      "w: 0.6, s: 0.35, lam: 0.01, gamma: 0.5\n"
     ]
    }
   ],
   "source": [
    "print(gts.params)\n",
    "print(lts.params)"
   ]
  },
  {
   "cell_type": "code",
   "execution_count": 4,
   "metadata": {},
   "outputs": [],
   "source": [
    "a = BinaryStateSequence(jumps = [0.2, 0.4], time_horizon = 1.0, first_value = 0)"
   ]
  },
  {
   "cell_type": "code",
   "execution_count": 5,
   "metadata": {},
   "outputs": [
    {
     "name": "stdout",
     "output_type": "stream",
     "text": [
      "0 [0.2, 0.4] 1.0\n"
     ]
    }
   ],
   "source": [
    "b = BinaryStateSequence(series = a.series)\n",
    "print(b.first_value, b.jumps, b.time_horizon)"
   ]
  },
  {
   "cell_type": "code",
   "execution_count": 6,
   "metadata": {},
   "outputs": [
    {
     "name": "stdout",
     "output_type": "stream",
     "text": [
      "[0.002, 0.01, 0.012, 0.016]\n",
      "[0.004, 0.006, 0.01, 0.012, 0.018000000000000002]\n"
     ]
    }
   ],
   "source": [
    "a = BinaryStateSequence(series = [0, 1, 1, 1, 1, 0, 1, 1, 0, 0])\n",
    "b = BinaryStateSequence(series = [1, 1, 0, 1, 1, 0, 1, 1, 1, 0])\n",
    "print(a.jumps)\n",
    "print(b.jumps)"
   ]
  },
  {
   "cell_type": "code",
   "execution_count": 7,
   "metadata": {},
   "outputs": [
    {
     "data": {
      "text/plain": [
       "[0.004, 0.006, 0.01, 0.012, 0.018000000000000002]"
      ]
     },
     "execution_count": 7,
     "metadata": {},
     "output_type": "execute_result"
    }
   ],
   "source": [
    "b.jumps"
   ]
  },
  {
   "cell_type": "code",
   "execution_count": 8,
   "metadata": {},
   "outputs": [
    {
     "data": {
      "text/plain": [
       "0.7117703227626097"
      ]
     },
     "execution_count": 8,
     "metadata": {},
     "output_type": "execute_result"
    }
   ],
   "source": [
    "gts.performance(a, b)"
   ]
  },
  {
   "cell_type": "code",
   "execution_count": 9,
   "metadata": {},
   "outputs": [
    {
     "data": {
      "text/plain": [
       "{'$L_1$ penalty': 0.3000000000000001,\n",
       " 'timing_uncertainty': 0.0,\n",
       " 'duration penalty term': 0.04}"
      ]
     },
     "execution_count": 9,
     "metadata": {},
     "output_type": "execute_result"
    }
   ],
   "source": [
    "gts.error_characterization(a, b)"
   ]
  },
  {
   "cell_type": "code",
   "execution_count": 10,
   "metadata": {},
   "outputs": [
    {
     "data": {
      "text/plain": [
       "0.7710515858035663"
      ]
     },
     "execution_count": 10,
     "metadata": {},
     "output_type": "execute_result"
    }
   ],
   "source": [
    "lts.performance(a, b)"
   ]
  },
  {
   "cell_type": "code",
   "execution_count": 11,
   "metadata": {},
   "outputs": [
    {
     "data": {
      "text/plain": [
       "{'$L_1$ penalty': 0.1,\n",
       " 'timing_uncertainty': 0.12000000000000005,\n",
       " 'duration penalty term': 0.04}"
      ]
     },
     "execution_count": 11,
     "metadata": {},
     "output_type": "execute_result"
    }
   ],
   "source": [
    "lts.error_characterization(a, b)"
   ]
  },
  {
   "cell_type": "code",
   "execution_count": 12,
   "metadata": {},
   "outputs": [],
   "source": [
    "c = BinaryStateSequence(first_value = 1, jumps = [0.398, 0.5,\n",
    "                                                  0.6, 0.849], time_horizon = 1)"
   ]
  },
  {
   "cell_type": "code",
   "execution_count": 13,
   "metadata": {},
   "outputs": [],
   "source": [
    "d = c.find_approx(gamma = 0.25)"
   ]
  },
  {
   "cell_type": "code",
   "execution_count": 14,
   "metadata": {},
   "outputs": [
    {
     "name": "stdout",
     "output_type": "stream",
     "text": [
      "1 [0.398, 0.849] 1\n"
     ]
    }
   ],
   "source": [
    "print(d.first_value, d.jumps, d.time_horizon)"
   ]
  }
 ],
 "metadata": {
  "kernelspec": {
   "display_name": "Python 3",
   "language": "python",
   "name": "python3"
  },
  "language_info": {
   "codemirror_mode": {
    "name": "ipython",
    "version": 3
   },
   "file_extension": ".py",
   "mimetype": "text/x-python",
   "name": "python",
   "nbconvert_exporter": "python",
   "pygments_lexer": "ipython3",
   "version": "3.7.6"
  }
 },
 "nbformat": 4,
 "nbformat_minor": 4
}
